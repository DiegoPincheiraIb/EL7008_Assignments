{
  "nbformat": 4,
  "nbformat_minor": 0,
  "metadata": {
    "colab": {
      "name": "Tarea_4_EL7008.ipynb",
      "provenance": [],
      "collapsed_sections": [
        "-qgNCOjkyg-K"
      ],
      "authorship_tag": "ABX9TyNyb3m4rnBU0pYwSKKONwSw"
    },
    "kernelspec": {
      "name": "python3",
      "display_name": "Python 3"
    }
  },
  "cells": [
    {
      "cell_type": "markdown",
      "metadata": {
        "id": "AcQgZIBsVK0H"
      },
      "source": [
        "# Configuraciones Preliminares"
      ]
    },
    {
      "cell_type": "markdown",
      "metadata": {
        "id": "x6BZYPtgvRZU"
      },
      "source": [
        "## Importación de archivos"
      ]
    },
    {
      "cell_type": "code",
      "metadata": {
        "id": "pT3LXXRT0Pkp",
        "colab": {
          "base_uri": "https://localhost:8080/"
        },
        "outputId": "d363d03e-82c3-453b-b47b-e7c21c732428"
      },
      "source": [
        "!wget https://github.com/DiegoPincheiraIb/EL7008_Assignments/raw/main/Assignment_4/imagenes_tarea4_2020.zip"
      ],
      "execution_count": 1,
      "outputs": [
        {
          "output_type": "stream",
          "name": "stdout",
          "text": [
            "--2022-02-23 22:19:49--  https://github.com/DiegoPincheiraIb/EL7008_Assignments/raw/main/Assignment_4/imagenes_tarea4_2020.zip\n",
            "Resolving github.com (github.com)... 140.82.113.4\n",
            "Connecting to github.com (github.com)|140.82.113.4|:443... connected.\n",
            "HTTP request sent, awaiting response... 302 Found\n",
            "Location: https://raw.githubusercontent.com/DiegoPincheiraIb/EL7008_Assignments/main/Assignment_4/imagenes_tarea4_2020.zip [following]\n",
            "--2022-02-23 22:19:50--  https://raw.githubusercontent.com/DiegoPincheiraIb/EL7008_Assignments/main/Assignment_4/imagenes_tarea4_2020.zip\n",
            "Resolving raw.githubusercontent.com (raw.githubusercontent.com)... 185.199.110.133, 185.199.108.133, 185.199.109.133, ...\n",
            "Connecting to raw.githubusercontent.com (raw.githubusercontent.com)|185.199.110.133|:443... connected.\n",
            "HTTP request sent, awaiting response... 200 OK\n",
            "Length: 4461117 (4.3M) [application/zip]\n",
            "Saving to: ‘imagenes_tarea4_2020.zip’\n",
            "\n",
            "imagenes_tarea4_202 100%[===================>]   4.25M  --.-KB/s    in 0.09s   \n",
            "\n",
            "2022-02-23 22:19:50 (48.9 MB/s) - ‘imagenes_tarea4_2020.zip’ saved [4461117/4461117]\n",
            "\n"
          ]
        }
      ]
    },
    {
      "cell_type": "code",
      "metadata": {
        "id": "IonIj38eZVve",
        "colab": {
          "base_uri": "https://localhost:8080/"
        },
        "outputId": "e7a02da9-e490-4425-cc7d-9384dd797ee0"
      },
      "source": [
        "!unzip imagenes_tarea4_2020.zip"
      ],
      "execution_count": 2,
      "outputs": [
        {
          "output_type": "stream",
          "name": "stdout",
          "text": [
            "Archive:  imagenes_tarea4_2020.zip\n",
            "   creating: car_side/\n",
            " extracting: car_side/image_0001.jpg  \n",
            "  inflating: car_side/image_0002.jpg  \n",
            " extracting: car_side/image_0003.jpg  \n",
            " extracting: car_side/image_0004.jpg  \n",
            " extracting: car_side/image_0005.jpg  \n",
            " extracting: car_side/image_0006.jpg  \n",
            " extracting: car_side/image_0007.jpg  \n",
            " extracting: car_side/image_0008.jpg  \n",
            " extracting: car_side/image_0009.jpg  \n",
            " extracting: car_side/image_0010.jpg  \n",
            " extracting: car_side/image_0011.jpg  \n",
            " extracting: car_side/image_0012.jpg  \n",
            " extracting: car_side/image_0013.jpg  \n",
            " extracting: car_side/image_0014.jpg  \n",
            " extracting: car_side/image_0015.jpg  \n",
            " extracting: car_side/image_0016.jpg  \n",
            " extracting: car_side/image_0017.jpg  \n",
            " extracting: car_side/image_0018.jpg  \n",
            " extracting: car_side/image_0019.jpg  \n",
            " extracting: car_side/image_0020.jpg  \n",
            " extracting: car_side/image_0021.jpg  \n",
            " extracting: car_side/image_0022.jpg  \n",
            " extracting: car_side/image_0023.jpg  \n",
            " extracting: car_side/image_0024.jpg  \n",
            " extracting: car_side/image_0025.jpg  \n",
            " extracting: car_side/image_0026.jpg  \n",
            " extracting: car_side/image_0027.jpg  \n",
            " extracting: car_side/image_0028.jpg  \n",
            " extracting: car_side/image_0029.jpg  \n",
            "  inflating: car_side/image_0030.jpg  \n",
            " extracting: car_side/image_0031.jpg  \n",
            " extracting: car_side/image_0032.jpg  \n",
            " extracting: car_side/image_0033.jpg  \n",
            " extracting: car_side/image_0034.jpg  \n",
            " extracting: car_side/image_0035.jpg  \n",
            " extracting: car_side/image_0036.jpg  \n",
            " extracting: car_side/image_0037.jpg  \n",
            " extracting: car_side/image_0038.jpg  \n",
            " extracting: car_side/image_0039.jpg  \n",
            " extracting: car_side/image_0040.jpg  \n",
            "  inflating: car_side/image_0041.jpg  \n",
            " extracting: car_side/image_0042.jpg  \n",
            " extracting: car_side/image_0043.jpg  \n",
            " extracting: car_side/image_0044.jpg  \n",
            " extracting: car_side/image_0045.jpg  \n",
            " extracting: car_side/image_0046.jpg  \n",
            " extracting: car_side/image_0047.jpg  \n",
            " extracting: car_side/image_0048.jpg  \n",
            " extracting: car_side/image_0049.jpg  \n",
            " extracting: car_side/image_0050.jpg  \n",
            " extracting: car_side/image_0051.jpg  \n",
            " extracting: car_side/image_0052.jpg  \n",
            " extracting: car_side/image_0053.jpg  \n",
            "  inflating: car_side/image_0054.jpg  \n",
            "  inflating: car_side/image_0055.jpg  \n",
            "  inflating: car_side/image_0056.jpg  \n",
            "  inflating: car_side/image_0057.jpg  \n",
            " extracting: car_side/image_0058.jpg  \n",
            "  inflating: car_side/image_0059.jpg  \n",
            "  inflating: car_side/image_0060.jpg  \n",
            "  inflating: car_side/image_0061.jpg  \n",
            " extracting: car_side/image_0062.jpg  \n",
            " extracting: car_side/image_0063.jpg  \n",
            "  inflating: car_side/image_0064.jpg  \n",
            "  inflating: car_side/image_0065.jpg  \n",
            " extracting: car_side/image_0066.jpg  \n",
            " extracting: car_side/image_0067.jpg  \n",
            " extracting: car_side/image_0068.jpg  \n",
            " extracting: car_side/image_0069.jpg  \n",
            " extracting: car_side/image_0070.jpg  \n",
            " extracting: car_side/image_0071.jpg  \n",
            " extracting: car_side/image_0072.jpg  \n",
            " extracting: car_side/image_0073.jpg  \n",
            " extracting: car_side/image_0074.jpg  \n",
            " extracting: car_side/image_0075.jpg  \n",
            " extracting: car_side/image_0076.jpg  \n",
            "  inflating: car_side/image_0077.jpg  \n",
            " extracting: car_side/image_0078.jpg  \n",
            "  inflating: car_side/image_0079.jpg  \n",
            " extracting: car_side/image_0080.jpg  \n",
            " extracting: car_side/image_0081.jpg  \n",
            " extracting: car_side/image_0082.jpg  \n",
            " extracting: car_side/image_0083.jpg  \n",
            "  inflating: car_side/image_0084.jpg  \n",
            "  inflating: car_side/image_0085.jpg  \n",
            " extracting: car_side/image_0086.jpg  \n",
            " extracting: car_side/image_0087.jpg  \n",
            " extracting: car_side/image_0088.jpg  \n",
            " extracting: car_side/image_0089.jpg  \n",
            "  inflating: car_side/image_0090.jpg  \n",
            " extracting: car_side/image_0091.jpg  \n",
            " extracting: car_side/image_0092.jpg  \n",
            " extracting: car_side/image_0093.jpg  \n",
            " extracting: car_side/image_0094.jpg  \n",
            " extracting: car_side/image_0095.jpg  \n",
            " extracting: car_side/image_0096.jpg  \n",
            " extracting: car_side/image_0097.jpg  \n",
            " extracting: car_side/image_0098.jpg  \n",
            " extracting: car_side/image_0099.jpg  \n",
            "  inflating: car_side/image_0100.jpg  \n",
            " extracting: car_side/image_0101.jpg  \n",
            " extracting: car_side/image_0102.jpg  \n",
            " extracting: car_side/image_0103.jpg  \n",
            " extracting: car_side/image_0104.jpg  \n",
            " extracting: car_side/image_0105.jpg  \n",
            " extracting: car_side/image_0106.jpg  \n",
            " extracting: car_side/image_0107.jpg  \n",
            " extracting: car_side/image_0108.jpg  \n",
            " extracting: car_side/image_0109.jpg  \n",
            " extracting: car_side/image_0110.jpg  \n",
            " extracting: car_side/image_0111.jpg  \n",
            " extracting: car_side/image_0112.jpg  \n",
            " extracting: car_side/image_0113.jpg  \n",
            " extracting: car_side/image_0114.jpg  \n",
            " extracting: car_side/image_0115.jpg  \n",
            " extracting: car_side/image_0116.jpg  \n",
            " extracting: car_side/image_0117.jpg  \n",
            " extracting: car_side/image_0118.jpg  \n",
            "  inflating: car_side/image_0119.jpg  \n",
            "  inflating: car_side/image_0120.jpg  \n",
            " extracting: car_side/image_0121.jpg  \n",
            " extracting: car_side/image_0122.jpg  \n",
            " extracting: car_side/image_0123.jpg  \n",
            "   creating: chair/\n",
            "  inflating: chair/image_0001.jpg    \n",
            "  inflating: chair/image_0002.jpg    \n",
            "  inflating: chair/image_0003.jpg    \n",
            "  inflating: chair/image_0004.jpg    \n",
            "  inflating: chair/image_0005.jpg    \n",
            "  inflating: chair/image_0006.jpg    \n",
            "  inflating: chair/image_0007.jpg    \n",
            "  inflating: chair/image_0008.jpg    \n",
            "  inflating: chair/image_0009.jpg    \n",
            "  inflating: chair/image_0010.jpg    \n",
            "  inflating: chair/image_0011.jpg    \n",
            "  inflating: chair/image_0012.jpg    \n",
            "  inflating: chair/image_0013.jpg    \n",
            "  inflating: chair/image_0014.jpg    \n",
            "  inflating: chair/image_0015.jpg    \n",
            "  inflating: chair/image_0016.jpg    \n",
            "  inflating: chair/image_0017.jpg    \n",
            "  inflating: chair/image_0018.jpg    \n",
            "  inflating: chair/image_0019.jpg    \n",
            "  inflating: chair/image_0020.jpg    \n",
            "  inflating: chair/image_0021.jpg    \n",
            "  inflating: chair/image_0022.jpg    \n",
            "  inflating: chair/image_0023.jpg    \n",
            "  inflating: chair/image_0024.jpg    \n",
            "  inflating: chair/image_0025.jpg    \n",
            "  inflating: chair/image_0026.jpg    \n",
            "  inflating: chair/image_0027.jpg    \n",
            " extracting: chair/image_0028.jpg    \n",
            "  inflating: chair/image_0029.jpg    \n",
            "  inflating: chair/image_0030.jpg    \n",
            "  inflating: chair/image_0031.jpg    \n",
            "  inflating: chair/image_0032.jpg    \n",
            "  inflating: chair/image_0033.jpg    \n",
            "  inflating: chair/image_0034.jpg    \n",
            "  inflating: chair/image_0035.jpg    \n",
            "  inflating: chair/image_0036.jpg    \n",
            "  inflating: chair/image_0037.jpg    \n",
            "  inflating: chair/image_0038.jpg    \n",
            "  inflating: chair/image_0039.jpg    \n",
            "  inflating: chair/image_0040.jpg    \n",
            "  inflating: chair/image_0041.jpg    \n",
            "  inflating: chair/image_0042.jpg    \n",
            "  inflating: chair/image_0043.jpg    \n",
            "  inflating: chair/image_0044.jpg    \n",
            "  inflating: chair/image_0045.jpg    \n",
            "  inflating: chair/image_0046.jpg    \n",
            "  inflating: chair/image_0047.jpg    \n",
            "  inflating: chair/image_0048.jpg    \n",
            "  inflating: chair/image_0049.jpg    \n",
            "  inflating: chair/image_0050.jpg    \n",
            "  inflating: chair/image_0051.jpg    \n",
            "  inflating: chair/image_0052.jpg    \n",
            "  inflating: chair/image_0053.jpg    \n",
            "  inflating: chair/image_0054.jpg    \n",
            "  inflating: chair/image_0055.jpg    \n",
            "  inflating: chair/image_0056.jpg    \n",
            "  inflating: chair/image_0057.jpg    \n",
            "  inflating: chair/image_0058.jpg    \n",
            "  inflating: chair/image_0059.jpg    \n",
            "  inflating: chair/image_0060.jpg    \n",
            "  inflating: chair/image_0061.jpg    \n",
            "  inflating: chair/image_0062.jpg    \n",
            "   creating: pedestrian/\n",
            " extracting: pedestrian/1.png        \n",
            "  inflating: pedestrian/10.png       \n",
            " extracting: pedestrian/100.png      \n",
            "  inflating: pedestrian/101.png      \n",
            " extracting: pedestrian/102.png      \n",
            "  inflating: pedestrian/103.png      \n",
            "  inflating: pedestrian/104.png      \n",
            "  inflating: pedestrian/105.png      \n",
            "  inflating: pedestrian/106.png      \n",
            "  inflating: pedestrian/107.png      \n",
            "  inflating: pedestrian/108.png      \n",
            "  inflating: pedestrian/109.png      \n",
            " extracting: pedestrian/11.png       \n",
            " extracting: pedestrian/110.png      \n",
            "  inflating: pedestrian/111.png      \n",
            " extracting: pedestrian/112.png      \n",
            "  inflating: pedestrian/113.png      \n",
            "  inflating: pedestrian/114.png      \n",
            "  inflating: pedestrian/115.png      \n",
            " extracting: pedestrian/116.png      \n",
            "  inflating: pedestrian/117.png      \n",
            " extracting: pedestrian/118.png      \n",
            "  inflating: pedestrian/119.png      \n",
            " extracting: pedestrian/12.png       \n",
            "  inflating: pedestrian/120.png      \n",
            "  inflating: pedestrian/121.png      \n",
            "  inflating: pedestrian/122.png      \n",
            "  inflating: pedestrian/123.png      \n",
            " extracting: pedestrian/124.png      \n",
            "  inflating: pedestrian/125.png      \n",
            " extracting: pedestrian/126.png      \n",
            " extracting: pedestrian/127.png      \n",
            " extracting: pedestrian/128.png      \n",
            " extracting: pedestrian/129.png      \n",
            " extracting: pedestrian/13.png       \n",
            "  inflating: pedestrian/130.png      \n",
            "  inflating: pedestrian/131.png      \n",
            " extracting: pedestrian/132.png      \n",
            "  inflating: pedestrian/133.png      \n",
            "  inflating: pedestrian/134.png      \n",
            "  inflating: pedestrian/135.png      \n",
            " extracting: pedestrian/136.png      \n",
            " extracting: pedestrian/137.png      \n",
            " extracting: pedestrian/138.png      \n",
            " extracting: pedestrian/139.png      \n",
            " extracting: pedestrian/14.png       \n",
            "  inflating: pedestrian/140.png      \n",
            "  inflating: pedestrian/141.png      \n",
            "  inflating: pedestrian/142.png      \n",
            "  inflating: pedestrian/143.png      \n",
            " extracting: pedestrian/144.png      \n",
            "  inflating: pedestrian/145.png      \n",
            "  inflating: pedestrian/146.png      \n",
            "  inflating: pedestrian/147.png      \n",
            " extracting: pedestrian/148.png      \n",
            "  inflating: pedestrian/149.png      \n",
            " extracting: pedestrian/15.png       \n",
            " extracting: pedestrian/150.png      \n",
            "  inflating: pedestrian/151.png      \n",
            "  inflating: pedestrian/152.png      \n",
            "  inflating: pedestrian/153.png      \n",
            "  inflating: pedestrian/154.png      \n",
            "  inflating: pedestrian/155.png      \n",
            "  inflating: pedestrian/156.png      \n",
            "  inflating: pedestrian/157.png      \n",
            "  inflating: pedestrian/158.png      \n",
            "  inflating: pedestrian/159.png      \n",
            "  inflating: pedestrian/16.png       \n",
            "  inflating: pedestrian/160.png      \n",
            "  inflating: pedestrian/161.png      \n",
            " extracting: pedestrian/162.png      \n",
            "  inflating: pedestrian/163.png      \n",
            "  inflating: pedestrian/164.png      \n",
            "  inflating: pedestrian/165.png      \n",
            " extracting: pedestrian/166.png      \n",
            " extracting: pedestrian/167.png      \n",
            "  inflating: pedestrian/168.png      \n",
            " extracting: pedestrian/169.png      \n",
            "  inflating: pedestrian/17.png       \n",
            "  inflating: pedestrian/170.png      \n",
            " extracting: pedestrian/171.png      \n",
            "  inflating: pedestrian/172.png      \n",
            " extracting: pedestrian/173.png      \n",
            "  inflating: pedestrian/174.png      \n",
            "  inflating: pedestrian/175.png      \n",
            "  inflating: pedestrian/176.png      \n",
            " extracting: pedestrian/177.png      \n",
            " extracting: pedestrian/178.png      \n",
            "  inflating: pedestrian/179.png      \n",
            "  inflating: pedestrian/18.png       \n",
            "  inflating: pedestrian/180.png      \n",
            "  inflating: pedestrian/181.png      \n",
            " extracting: pedestrian/182.png      \n",
            "  inflating: pedestrian/183.png      \n",
            " extracting: pedestrian/184.png      \n",
            " extracting: pedestrian/185.png      \n",
            " extracting: pedestrian/19.png       \n",
            " extracting: pedestrian/2.png        \n",
            " extracting: pedestrian/20.png       \n",
            " extracting: pedestrian/21.png       \n",
            " extracting: pedestrian/22.png       \n",
            " extracting: pedestrian/23.png       \n",
            " extracting: pedestrian/24.png       \n",
            " extracting: pedestrian/25.png       \n",
            " extracting: pedestrian/26.png       \n",
            " extracting: pedestrian/27.png       \n",
            " extracting: pedestrian/28.png       \n",
            " extracting: pedestrian/29.png       \n",
            " extracting: pedestrian/3.png        \n",
            " extracting: pedestrian/30.png       \n",
            " extracting: pedestrian/31.png       \n",
            " extracting: pedestrian/32.png       \n",
            " extracting: pedestrian/33.png       \n",
            " extracting: pedestrian/34.png       \n",
            "  inflating: pedestrian/35.png       \n",
            " extracting: pedestrian/36.png       \n",
            " extracting: pedestrian/37.png       \n",
            " extracting: pedestrian/38.png       \n",
            " extracting: pedestrian/39.png       \n",
            " extracting: pedestrian/4.png        \n",
            " extracting: pedestrian/40.png       \n",
            " extracting: pedestrian/41.png       \n",
            " extracting: pedestrian/42.png       \n",
            " extracting: pedestrian/43.png       \n",
            " extracting: pedestrian/44.png       \n",
            " extracting: pedestrian/45.png       \n",
            " extracting: pedestrian/46.png       \n",
            " extracting: pedestrian/47.png       \n",
            " extracting: pedestrian/48.png       \n",
            " extracting: pedestrian/49.png       \n",
            " extracting: pedestrian/5.png        \n",
            " extracting: pedestrian/50.png       \n",
            " extracting: pedestrian/51.png       \n",
            " extracting: pedestrian/52.png       \n",
            " extracting: pedestrian/53.png       \n",
            " extracting: pedestrian/54.png       \n",
            " extracting: pedestrian/55.png       \n",
            " extracting: pedestrian/56.png       \n",
            " extracting: pedestrian/57.png       \n",
            " extracting: pedestrian/58.png       \n",
            " extracting: pedestrian/59.png       \n",
            " extracting: pedestrian/6.png        \n",
            " extracting: pedestrian/60.png       \n",
            " extracting: pedestrian/61.png       \n",
            "  inflating: pedestrian/62.png       \n",
            " extracting: pedestrian/63.png       \n",
            " extracting: pedestrian/64.png       \n",
            "  inflating: pedestrian/65.png       \n",
            " extracting: pedestrian/66.png       \n",
            "  inflating: pedestrian/67.png       \n",
            " extracting: pedestrian/68.png       \n",
            "  inflating: pedestrian/69.png       \n",
            " extracting: pedestrian/7.png        \n",
            "  inflating: pedestrian/70.png       \n",
            " extracting: pedestrian/71.png       \n",
            " extracting: pedestrian/72.png       \n",
            " extracting: pedestrian/73.png       \n",
            "  inflating: pedestrian/74.png       \n",
            " extracting: pedestrian/75.png       \n",
            " extracting: pedestrian/76.png       \n",
            " extracting: pedestrian/77.png       \n",
            " extracting: pedestrian/78.png       \n",
            " extracting: pedestrian/79.png       \n",
            " extracting: pedestrian/8.png        \n",
            " extracting: pedestrian/80.png       \n",
            " extracting: pedestrian/81.png       \n",
            " extracting: pedestrian/82.png       \n",
            " extracting: pedestrian/83.png       \n",
            "  inflating: pedestrian/84.png       \n",
            "  inflating: pedestrian/85.png       \n",
            " extracting: pedestrian/86.png       \n",
            " extracting: pedestrian/87.png       \n",
            "  inflating: pedestrian/88.png       \n",
            "  inflating: pedestrian/89.png       \n",
            " extracting: pedestrian/9.png        \n",
            " extracting: pedestrian/90.png       \n",
            "  inflating: pedestrian/91.png       \n",
            " extracting: pedestrian/92.png       \n",
            "  inflating: pedestrian/93.png       \n",
            " extracting: pedestrian/94.png       \n",
            "  inflating: pedestrian/95.png       \n",
            "  inflating: pedestrian/96.png       \n",
            "  inflating: pedestrian/97.png       \n",
            "  inflating: pedestrian/98.png       \n",
            " extracting: pedestrian/99.png       \n"
          ]
        }
      ]
    },
    {
      "cell_type": "code",
      "metadata": {
        "id": "NtVkZhY03X2F",
        "colab": {
          "base_uri": "https://localhost:8080/"
        },
        "outputId": "dcca9d6d-cf4a-46dc-c55a-9307ede4f185"
      },
      "source": [
        "!ls"
      ],
      "execution_count": 3,
      "outputs": [
        {
          "output_type": "stream",
          "name": "stdout",
          "text": [
            "car_side  chair  imagenes_tarea4_2020.zip  pedestrian  sample_data\n"
          ]
        }
      ]
    },
    {
      "cell_type": "markdown",
      "metadata": {
        "id": "voGuudrmvUI0"
      },
      "source": [
        "## Librerías"
      ]
    },
    {
      "cell_type": "code",
      "metadata": {
        "id": "wFDJErtH05Ou",
        "colab": {
          "base_uri": "https://localhost:8080/"
        },
        "outputId": "6c73a5aa-39bc-47b0-dc1a-5a4f0ccd21f3"
      },
      "source": [
        "!pip install sparse"
      ],
      "execution_count": 4,
      "outputs": [
        {
          "output_type": "stream",
          "name": "stdout",
          "text": [
            "Collecting sparse\n",
            "  Downloading sparse-0.13.0-py2.py3-none-any.whl (77 kB)\n",
            "\u001b[?25l\r\u001b[K     |████▏                           | 10 kB 25.7 MB/s eta 0:00:01\r\u001b[K     |████████▍                       | 20 kB 13.3 MB/s eta 0:00:01\r\u001b[K     |████████████▋                   | 30 kB 10.3 MB/s eta 0:00:01\r\u001b[K     |████████████████▉               | 40 kB 4.7 MB/s eta 0:00:01\r\u001b[K     |█████████████████████           | 51 kB 4.4 MB/s eta 0:00:01\r\u001b[K     |█████████████████████████▎      | 61 kB 5.3 MB/s eta 0:00:01\r\u001b[K     |█████████████████████████████▌  | 71 kB 6.0 MB/s eta 0:00:01\r\u001b[K     |████████████████████████████████| 77 kB 3.5 MB/s \n",
            "\u001b[?25hRequirement already satisfied: numpy>=1.17 in /usr/local/lib/python3.7/dist-packages (from sparse) (1.21.5)\n",
            "Requirement already satisfied: scipy>=0.19 in /usr/local/lib/python3.7/dist-packages (from sparse) (1.4.1)\n",
            "Requirement already satisfied: numba>=0.49 in /usr/local/lib/python3.7/dist-packages (from sparse) (0.51.2)\n",
            "Requirement already satisfied: llvmlite<0.35,>=0.34.0.dev0 in /usr/local/lib/python3.7/dist-packages (from numba>=0.49->sparse) (0.34.0)\n",
            "Requirement already satisfied: setuptools in /usr/local/lib/python3.7/dist-packages (from numba>=0.49->sparse) (57.4.0)\n",
            "Installing collected packages: sparse\n",
            "Successfully installed sparse-0.13.0\n"
          ]
        }
      ]
    },
    {
      "cell_type": "code",
      "metadata": {
        "id": "TlShbR4IWAbE",
        "colab": {
          "base_uri": "https://localhost:8080/"
        },
        "outputId": "79021e33-4835-4aad-b917-6c427f50864c"
      },
      "source": [
        "!pip install ipython-autotime"
      ],
      "execution_count": 5,
      "outputs": [
        {
          "output_type": "stream",
          "name": "stdout",
          "text": [
            "Collecting ipython-autotime\n",
            "  Downloading ipython_autotime-0.3.1-py2.py3-none-any.whl (6.8 kB)\n",
            "Requirement already satisfied: ipython in /usr/local/lib/python3.7/dist-packages (from ipython-autotime) (5.5.0)\n",
            "Requirement already satisfied: pygments in /usr/local/lib/python3.7/dist-packages (from ipython->ipython-autotime) (2.6.1)\n",
            "Requirement already satisfied: setuptools>=18.5 in /usr/local/lib/python3.7/dist-packages (from ipython->ipython-autotime) (57.4.0)\n",
            "Requirement already satisfied: decorator in /usr/local/lib/python3.7/dist-packages (from ipython->ipython-autotime) (4.4.2)\n",
            "Requirement already satisfied: pexpect in /usr/local/lib/python3.7/dist-packages (from ipython->ipython-autotime) (4.8.0)\n",
            "Requirement already satisfied: prompt-toolkit<2.0.0,>=1.0.4 in /usr/local/lib/python3.7/dist-packages (from ipython->ipython-autotime) (1.0.18)\n",
            "Requirement already satisfied: traitlets>=4.2 in /usr/local/lib/python3.7/dist-packages (from ipython->ipython-autotime) (5.1.1)\n",
            "Requirement already satisfied: pickleshare in /usr/local/lib/python3.7/dist-packages (from ipython->ipython-autotime) (0.7.5)\n",
            "Requirement already satisfied: simplegeneric>0.8 in /usr/local/lib/python3.7/dist-packages (from ipython->ipython-autotime) (0.8.1)\n",
            "Requirement already satisfied: wcwidth in /usr/local/lib/python3.7/dist-packages (from prompt-toolkit<2.0.0,>=1.0.4->ipython->ipython-autotime) (0.2.5)\n",
            "Requirement already satisfied: six>=1.9.0 in /usr/local/lib/python3.7/dist-packages (from prompt-toolkit<2.0.0,>=1.0.4->ipython->ipython-autotime) (1.15.0)\n",
            "Requirement already satisfied: ptyprocess>=0.5 in /usr/local/lib/python3.7/dist-packages (from pexpect->ipython->ipython-autotime) (0.7.0)\n",
            "Installing collected packages: ipython-autotime\n",
            "Successfully installed ipython-autotime-0.3.1\n"
          ]
        }
      ]
    },
    {
      "cell_type": "code",
      "metadata": {
        "id": "8isVdxsl9Li7",
        "colab": {
          "base_uri": "https://localhost:8080/"
        },
        "outputId": "f3aa3459-a364-48dc-832b-f9fac40abd00"
      },
      "source": [
        "!pip install -U opencv-python"
      ],
      "execution_count": 6,
      "outputs": [
        {
          "output_type": "stream",
          "name": "stdout",
          "text": [
            "Requirement already satisfied: opencv-python in /usr/local/lib/python3.7/dist-packages (4.1.2.30)\n",
            "Collecting opencv-python\n",
            "  Downloading opencv_python-4.5.5.62-cp36-abi3-manylinux_2_17_x86_64.manylinux2014_x86_64.whl (60.4 MB)\n",
            "\u001b[K     |████████████████████████████████| 60.4 MB 29 kB/s \n",
            "\u001b[?25hRequirement already satisfied: numpy>=1.14.5 in /usr/local/lib/python3.7/dist-packages (from opencv-python) (1.21.5)\n",
            "Installing collected packages: opencv-python\n",
            "  Attempting uninstall: opencv-python\n",
            "    Found existing installation: opencv-python 4.1.2.30\n",
            "    Uninstalling opencv-python-4.1.2.30:\n",
            "      Successfully uninstalled opencv-python-4.1.2.30\n",
            "\u001b[31mERROR: pip's dependency resolver does not currently take into account all the packages that are installed. This behaviour is the source of the following dependency conflicts.\n",
            "albumentations 0.1.12 requires imgaug<0.2.7,>=0.2.5, but you have imgaug 0.2.9 which is incompatible.\u001b[0m\n",
            "Successfully installed opencv-python-4.5.5.62\n"
          ]
        }
      ]
    },
    {
      "cell_type": "code",
      "metadata": {
        "id": "PLVxGOcgWArN",
        "colab": {
          "base_uri": "https://localhost:8080/"
        },
        "outputId": "d8cf6c2f-4836-43d0-be21-a066d223f32f"
      },
      "source": [
        "%load_ext autotime"
      ],
      "execution_count": 7,
      "outputs": [
        {
          "output_type": "stream",
          "name": "stdout",
          "text": [
            "time: 110 µs (started: 2022-02-23 22:20:33 +00:00)\n"
          ]
        }
      ]
    },
    {
      "cell_type": "code",
      "metadata": {
        "colab": {
          "base_uri": "https://localhost:8080/"
        },
        "id": "taywK8hqT2UZ",
        "outputId": "dbbbd7b3-c36c-4d84-d609-284fd09de94c"
      },
      "source": [
        "import numpy as np\n",
        "import cv2\n",
        "import os\n",
        "from matplotlib import pyplot as plt\n",
        "from google.colab.patches import cv2_imshow\n",
        "from sklearn.preprocessing import StandardScaler\n",
        "from sklearn.model_selection import train_test_split,GridSearchCV\n",
        "from sklearn.metrics import classification_report, confusion_matrix, plot_confusion_matrix\n",
        "from sklearn import svm, metrics\n",
        "from sklearn.ensemble import RandomForestClassifier"
      ],
      "execution_count": 8,
      "outputs": [
        {
          "output_type": "stream",
          "name": "stdout",
          "text": [
            "time: 977 ms (started: 2022-02-23 22:20:33 +00:00)\n"
          ]
        }
      ]
    },
    {
      "cell_type": "code",
      "metadata": {
        "id": "YdrE4kHQdUCE",
        "colab": {
          "base_uri": "https://localhost:8080/"
        },
        "outputId": "8e8c0c1a-e9a9-4137-97eb-3b59dba1a82f"
      },
      "source": [
        "%load_ext Cython"
      ],
      "execution_count": 9,
      "outputs": [
        {
          "output_type": "stream",
          "name": "stdout",
          "text": [
            "time: 726 ms (started: 2022-02-23 22:20:34 +00:00)\n"
          ]
        }
      ]
    },
    {
      "cell_type": "markdown",
      "metadata": {
        "id": "4UgHG-C1Xm5d"
      },
      "source": [
        "# Funciones"
      ]
    },
    {
      "cell_type": "markdown",
      "metadata": {
        "id": "rCVrgP9hZgOX"
      },
      "source": [
        "## Proc_Img()\n",
        "\n",
        "Dado una imagen objetivo, esta función transforma a escala de grises dicha imagen, luego la redimensiona a 64 x 128 pixeles, y por último retorna dicha imagen transformada en formato np.float32."
      ]
    },
    {
      "cell_type": "code",
      "metadata": {
        "colab": {
          "base_uri": "https://localhost:8080/"
        },
        "id": "CQuPp79-Xo1u",
        "outputId": "91ae2ea6-76c3-4cb5-f96e-7a5a2b47eb73"
      },
      "source": [
        "def Proc_Img(Img_Obj):\n",
        "  Img_Gris = cv2.cvtColor(Img_Obj, cv2.COLOR_BGR2GRAY)# Transformar a escala de grises\n",
        "  Img_Final = cv2.resize(Img_Gris,(64,128)) # Redimensionar Imagen\n",
        "  return Img_Final.astype(np.float32)"
      ],
      "execution_count": 10,
      "outputs": [
        {
          "output_type": "stream",
          "name": "stdout",
          "text": [
            "time: 2.42 ms (started: 2022-02-23 22:20:35 +00:00)\n"
          ]
        }
      ]
    },
    {
      "cell_type": "markdown",
      "metadata": {
        "id": "-qgNCOjkyg-K"
      },
      "source": [
        "## Convolution_cython()"
      ]
    },
    {
      "cell_type": "markdown",
      "metadata": {
        "id": "vK0TZ_VoHjK1"
      },
      "source": [
        "Esta función recibe una matriz y una máscara, retornando la convolución entre ambos elementos. El procedimiento se realiza pixel a pixel. Cabe destacar que es la misma función utilizada en la Tarea 1."
      ]
    },
    {
      "cell_type": "code",
      "metadata": {
        "id": "1Xs7uQQ3pKki",
        "colab": {
          "base_uri": "https://localhost:8080/"
        },
        "outputId": "269dc16c-d753-46cd-c7c7-f8daca718893"
      },
      "source": [
        "%%cython\n",
        "import cython\n",
        "import numpy as np\n",
        "cimport numpy as np\n",
        "\n",
        "#@cython.boundscheck(False)\n",
        "cpdef float[:, :] convolution_cython(float [:, :] input, float [:, :] mask):\n",
        "  cdef int r, c, rows, cols, Rows_Mask,Cols_Mask ,Centro_Rows_Mask ,Centro_Cols_Mask \n",
        "  cdef float sum\n",
        "  cdef np.ndarray output=np.zeros((input.shape[0],input.shape[1]), dtype = np.float32)\n",
        "\n",
        "  # Tamano de la imagen\n",
        "  rows = input.shape[0]\n",
        "  cols = input.shape[1]\n",
        "\n",
        "  # Tamaño de la máscara:\n",
        "  Rows_Mask = mask.shape[0]\n",
        "  Cols_Mask = mask.shape[1]\n",
        "\n",
        "  Centro_Rows_Mask = Rows_Mask//2 + 1\n",
        "  Centro_Cols_Mask = Cols_Mask//2 + 1\n",
        "\n",
        "  # Se implementa convolucion entre \"input\" y \"mask\"\n",
        "  for r in range(rows):\n",
        "    for c in range(cols):\n",
        "      sum = 0\n",
        "      for index_rows_mask in range(-Centro_Rows_Mask +1, Centro_Rows_Mask):\n",
        "        for index_cols_mask in range(-Centro_Cols_Mask + 1, Centro_Cols_Mask):\n",
        "          Indices_Kernel_Rows = index_rows_mask + Centro_Rows_Mask -1\n",
        "          Indices_Kernel_Cols = index_cols_mask + Centro_Cols_Mask -1\n",
        "          new_i = r + index_rows_mask\n",
        "          new_j = c + index_cols_mask\n",
        "          if (new_i >=0 and new_i<rows and new_j >=0 and new_j < cols):\n",
        "            sum += mask[Indices_Kernel_Rows,Indices_Kernel_Cols] * input[new_i, new_j]\n",
        "      output[r, c] = sum\n",
        "  return output"
      ],
      "execution_count": 11,
      "outputs": [
        {
          "output_type": "stream",
          "name": "stderr",
          "text": [
            "warning: /root/.cache/ipython/cython/_cython_magic_d284bf41560f12ab870af72e1ddecbe5.pyx:33:24: Index should be typed for more efficient access\n"
          ]
        },
        {
          "output_type": "stream",
          "name": "stdout",
          "text": [
            "time: 7.77 s (started: 2022-02-23 22:20:35 +00:00)\n"
          ]
        }
      ]
    },
    {
      "cell_type": "markdown",
      "metadata": {
        "id": "Peyat-bnyizI"
      },
      "source": [
        "## Gradientes\n",
        "\n",
        "Se implementan dos funciones utilizando el **Operador Sobel**, siendo este  un operador diferencial discreto que calcula una aproximación al gradiente de la intensidad de una imagen. Este se divide en dos Kernels, representados aquí por dos funciones: GradX() y GradY(). La primera permite calcular el gradiente en la dirección X de un elemento objetivo, mientras que la segunda permite calcular el gradiente en la dirección Y de dicho elemento. Estos Kernels se convolucionan mediante la función **convolution_cython**, entregando los gradientes correspondientes."
      ]
    },
    {
      "cell_type": "markdown",
      "metadata": {
        "id": "r3J9s0b9yjvZ"
      },
      "source": [
        "### GradX()"
      ]
    },
    {
      "cell_type": "code",
      "metadata": {
        "id": "ar1hZA5IdUWX",
        "colab": {
          "base_uri": "https://localhost:8080/"
        },
        "outputId": "18dafd1e-8e2d-45e3-d536-ac62b22107b8"
      },
      "source": [
        "%%cython\n",
        "import cython\n",
        "import numpy as np\n",
        "cimport numpy as np\n",
        "\n",
        "from __main__ import convolution_cython\n",
        "\n",
        "\n",
        "cpdef float[:, :] gradx(float [:, :] input):\n",
        "  cdef np.ndarray Grad_X=np.zeros([input.shape[0], input.shape[1]], dtype = np.float32)\n",
        "  cdef np.ndarray Elem_V = np.array([[1.],[2.],[1.]], dtype = np.float32) # Kernel 1\n",
        "  cdef np.ndarray Elem_H = np.array([-1.,0.,1.], dtype = np.float32) # Kernel 2\n",
        "  # Se convoluciona el producto de los kernels con la imagen de entrada\n",
        "  Grad_X = np.float32(convolution_cython(input, Elem_V * Elem_H))\n",
        "  return Grad_X"
      ],
      "execution_count": 12,
      "outputs": [
        {
          "output_type": "stream",
          "name": "stdout",
          "text": [
            "time: 6.79 s (started: 2022-02-23 22:20:43 +00:00)\n"
          ]
        }
      ]
    },
    {
      "cell_type": "markdown",
      "metadata": {
        "id": "qDkzmTbMymsT"
      },
      "source": [
        "### GradY()"
      ]
    },
    {
      "cell_type": "code",
      "metadata": {
        "id": "CwWh_0CKdh5Q",
        "colab": {
          "base_uri": "https://localhost:8080/"
        },
        "outputId": "88a810e7-150f-41a0-e51b-98f1fb052bfa"
      },
      "source": [
        "%%cython\n",
        "import cython\n",
        "import numpy as np\n",
        "cimport numpy as np\n",
        "from __main__ import convolution_cython\n",
        "\n",
        "cpdef float[:, :] grady(float [:, :] input):\n",
        "  cdef np.ndarray Grad_Y=np.zeros([input.shape[0], input.shape[1]], dtype = np.float32)\n",
        "  cdef np.ndarray Elem_V = np.array([[-1.],[0.],[1.]], dtype = np.float32) # Kernel 1\n",
        "  cdef np.ndarray Elem_H = np.array([1.,2.,1.], dtype = np.float32) # Kernel 2\n",
        "  # Se convoluciona el producto de los kernels con la imagen de entrada\n",
        "  Grad_Y = np.float32(convolution_cython(input, Elem_V * Elem_H))\n",
        "\n",
        "  return Grad_Y"
      ],
      "execution_count": 13,
      "outputs": [
        {
          "output_type": "stream",
          "name": "stdout",
          "text": [
            "time: 4.5 s (started: 2022-02-23 22:20:49 +00:00)\n"
          ]
        }
      ]
    },
    {
      "cell_type": "markdown",
      "metadata": {
        "id": "Bv4wYL2icZI4"
      },
      "source": [
        "## HoG\n",
        "\n",
        "Se procede a elaborar una serie de funciones que permiten implementar el método HoG."
      ]
    },
    {
      "cell_type": "markdown",
      "metadata": {
        "id": "n1oKrfKXdQ4h"
      },
      "source": [
        "### computeHoG()\n",
        "\n",
        "Dado dos gradientes de una imagen (correspondientes al gradiente en la dirección X y en la dirección Y), **entrega un histograma ponderado a partir de la magnitud y ángulo presente en cada pixel**."
      ]
    },
    {
      "cell_type": "code",
      "metadata": {
        "id": "1g0ofggecb6i",
        "colab": {
          "base_uri": "https://localhost:8080/"
        },
        "outputId": "f46b7658-5228-4872-bc43-91f8351e2815"
      },
      "source": [
        "import cv2\n",
        "from numba import jit\n",
        "@jit(nopython=True)\n",
        "\n",
        "def computeHog(gradx, grady):\n",
        "  Mag = np.sqrt(np.power(gradx, 2)+ np.power(grady, 2)) # Se calcula la magnitud a partir de los gradientes\n",
        "  Angle = (np.arctan2(grady, gradx)* 180 / np.pi) + 180 # Se calcula el ángulo a partir de los gradientes\n",
        "  for i in range(len(Angle)):\n",
        "    for j in range(len(Angle[0])):\n",
        "      if Angle[i,j] >= 180:\n",
        "        Angle[i,j] = Angle[i,j]-180 # Se ajustan los ángulos al rango [0,180)\n",
        "  Histogramas = np.zeros((16,8,9))\n",
        "  # Se divide la imagen de 128x64 en celdas de 8x8, resultando 16x8 celdas:\n",
        "  for i in range(16): \n",
        "    for j in range(8): \n",
        "      New_Hist = np.zeros((9)) # Se inicializa un histograma de 9 bines (del 0 al 160) para una celda\n",
        "      # Se calculan los histogramas iterando pixel a pixel las celdas:\n",
        "      for k in range(8): \n",
        "        for l in range(8):\n",
        "          # Se extrae la magnitud y el ángulo del pixel, y se calcula el valor del bin inferior     \n",
        "          Angulo = Angle[8*i + k,8*j + l]\n",
        "          Magnitud = Mag[8*i + k,8*j + l]\n",
        "          Cuociente_Obj = int(Angulo / 20) \n",
        "          Bin_Obj = 20 * Cuociente_Obj\n",
        "          # Como se tiene 9 bines (de 0 a 160), se divide en dos casos:\n",
        "          if Angulo >= 160: \n",
        "            # Se calculan los valores de cada bin y se guardan en los bines respectivos.\n",
        "            Prim_Valor = (Bin_Obj + 20 - Angulo)*Magnitud/20\n",
        "            Seg_Valor = (Angulo - Bin_Obj)*Magnitud/20\n",
        "            New_Hist[-1] += Prim_Valor\n",
        "            New_Hist[0] += Seg_Valor\n",
        "          else: \n",
        "            # # Se calculan los valores de cada bin y se guardan en los bines respectivos.\n",
        "            Prim_Valor = (Bin_Obj + 20 - Angulo)*Magnitud/20 \n",
        "            Seg_Valor = (Angulo - Bin_Obj)*Magnitud/20\n",
        "            New_Hist[Cuociente_Obj] += Prim_Valor\n",
        "            New_Hist[Cuociente_Obj+1] += Seg_Valor\n",
        "      Histogramas[i][j] = New_Hist # Se guarda el histograma \n",
        "  return Histogramas\n"
      ],
      "execution_count": 14,
      "outputs": [
        {
          "output_type": "stream",
          "name": "stdout",
          "text": [
            "time: 721 ms (started: 2022-02-23 22:20:54 +00:00)\n"
          ]
        }
      ]
    },
    {
      "cell_type": "markdown",
      "metadata": {
        "id": "iVLnUSdmdVsK"
      },
      "source": [
        "### Calculo_Vector()\n",
        "\n",
        "Esta función calcula un vector de características a partir de un conjunto de histogramas contenidos en una matriz, concatenando estos mediante un recorrido con traslape tomando 4 histogramas a su vez, normalizando estos antes de guardarlos en el vector de características final."
      ]
    },
    {
      "cell_type": "code",
      "metadata": {
        "colab": {
          "base_uri": "https://localhost:8080/"
        },
        "id": "ftFcwBfFsdff",
        "outputId": "e0b34d27-6c1d-45ba-beee-5cba14b4a28d"
      },
      "source": [
        "from numba import jit\n",
        "@jit(nopython=True)\n",
        "\n",
        "def Calculo_Vector(Hist_Obj):\n",
        "  Vector_Caract = np.zeros((3780))\n",
        "  # Se recorren las celdas\n",
        "  for i in range(15): # Se omite la última fila\n",
        "    for j in range(7): # Se omite la última columna\n",
        "      # Se concatenan los histogramas correspondientes a la celda actual, la celda en la siguiente fila,\n",
        "      # en la siguiente columna, y en la siguiente fila y columna, formando un vector de 1x36.\n",
        "      Vector_Aux = np.concatenate((Hist_Obj[i,j],Hist_Obj[i+1,j],Hist_Obj[i,j+1],Hist_Obj[i+1,j+1]),axis = 0)\n",
        "      # Se normalizan los vectores de características:\n",
        "      if np.sqrt(np.sum(Vector_Aux**2)) != 0:\n",
        "        Vect_Aux_Norm = Vector_Aux / np.sqrt(np.sum(Vector_Aux**2)) \n",
        "      else:\n",
        "        Vect_Aux_Norm = np.zeros((36))\n",
        "      Index = len(Vector_Aux)*(i*7+j)\n",
        "      Vector_Caract[Index:Index + 36] = Vect_Aux_Norm\n",
        "  return Vector_Caract.reshape((1, 3780))"
      ],
      "execution_count": 15,
      "outputs": [
        {
          "output_type": "stream",
          "name": "stdout",
          "text": [
            "time: 12.8 ms (started: 2022-02-23 22:20:55 +00:00)\n"
          ]
        }
      ]
    },
    {
      "cell_type": "markdown",
      "metadata": {
        "id": "YBVjz52ZdYuP"
      },
      "source": [
        "### Calculador_CaractHoG()\n",
        "\n",
        "Esta función calcula las características HoG a partir de una imagen objetivo. Para esto, procesa la imagen con la función Proc_Img(), obteniendo gradientes en la dirección X e Y. Estos serán utilizados en conjunto con la función computeHoG() para generar una matriz de histogramas, siendo esta última utilizada para generar el vector de características mediante Calculo_Vector()."
      ]
    },
    {
      "cell_type": "code",
      "metadata": {
        "colab": {
          "base_uri": "https://localhost:8080/"
        },
        "id": "YUU5_SZOcxWG",
        "outputId": "79e8a375-d11b-4bf2-b2f3-7856a170a8e6"
      },
      "source": [
        " def Calculador_CaractHoG(Img_Obj):\n",
        "  Img_Gris = Proc_Img(Img_Obj)\n",
        "  imx = np.float32(gradx(Img_Gris))\n",
        "  imy = np.float32(grady(Img_Gris))\n",
        "  Histogr = computeHog(imx, imy)\n",
        "  Vector = Calculo_Vector(Histogr)\n",
        "  return Vector"
      ],
      "execution_count": 16,
      "outputs": [
        {
          "output_type": "stream",
          "name": "stdout",
          "text": [
            "time: 4.01 ms (started: 2022-02-23 22:20:55 +00:00)\n"
          ]
        }
      ]
    },
    {
      "cell_type": "markdown",
      "metadata": {
        "id": "6n52tvut69V_"
      },
      "source": [
        "## Constructor_Clasificador()\n",
        "\n",
        "Dado un tipo de Kernel, un booleando, una cantidad de *Folds*, y un diccionario de parámetros, retorna un **clasificador SVM** óptimo bajo los elementos entregados a la función mediante el uso de **GridSearchCV**."
      ]
    },
    {
      "cell_type": "code",
      "metadata": {
        "colab": {
          "base_uri": "https://localhost:8080/"
        },
        "id": "jczzD47ttOZP",
        "outputId": "36dc3489-584c-4512-d8a7-219c037411d8"
      },
      "source": [
        "def Constructor_Clasificador(Tipo_Kernel, Probabilidad, N_Folds, Parametros):\n",
        "  Clasificador_SVM = svm.SVC(kernel=Tipo_Kernel, probability=Probabilidad,decision_function_shape='ovr')\n",
        "  Clasificador_Optimo = GridSearchCV(estimator=Clasificador_SVM, cv=N_Folds, param_grid= Parametros )\n",
        "  return Clasificador_Optimo"
      ],
      "execution_count": 17,
      "outputs": [
        {
          "output_type": "stream",
          "name": "stdout",
          "text": [
            "time: 8.53 ms (started: 2022-02-23 22:20:55 +00:00)\n"
          ]
        }
      ]
    },
    {
      "cell_type": "markdown",
      "metadata": {
        "id": "caSHpgt4cx-w"
      },
      "source": [
        "# Procesamiento\n",
        "\n",
        "Se genera el listado de nombres de cada archivo de los tres tipos (Autos, Sillas, y Transeuntes). Posteriormente se generan las matrices de vectores de características para los tres conjuntos utilizando Calculador_CaractHoG() para cada elemento, en conjunto con elaborar un vector de clases para cada conjunto, donde los transeuntes son asociados a una clase \"1\", mientras que el resto es determinado como clase \"0\". Luego, cada uno de las tres matrices de características y sus clases asociadas se dividen en un conjunto de entrenamiento y validación utilizando train_test_split(). Posteriormente estos se concatenan entre sí, generando finalmente un solo conjunto de entrenamiento y validación con sus respectivas clases. Una vez obtenidos los conjuntos finales, se entrena un estandarizador utilizando StandardScaler() con el conjunto de entrenamiento, aplicando este operador a los conjuntos.\n",
        "\n",
        "Con los conjuntos de entrenamiento y validación, se lleva a cabo el entrenamiento de dos clasificadores:\n",
        "\n",
        "*   Utilizando la función Constructor_Clasificador(), se genera un **clasificador SVM con kernel RBF** utilizando GridSearchCV, entrenando este con el conjunto de entrenamiento, prediciendo a continuación los datos provenientes del conjunto de prueba.\n",
        "*   Se genera un **clasificador RandomForest** utilizando la función RandomForestClassifier(), entrenando este con el conjunto de entrenamiento, prediciendo a continuación los datos provenientes del conjunto de prueba.\n",
        "\n"
      ]
    },
    {
      "cell_type": "code",
      "metadata": {
        "colab": {
          "base_uri": "https://localhost:8080/"
        },
        "id": "5adw1pLBnHQw",
        "outputId": "0a2b2bc2-770d-472e-b6bd-5800e92fefcc"
      },
      "source": [
        "# Se generan los directorios de acceso a las imágenes\n",
        "Autos = os.listdir('car_side/')\n",
        "Sillas = os.listdir('chair/')\n",
        "Transeuntes = os.listdir('pedestrian/')"
      ],
      "execution_count": 18,
      "outputs": [
        {
          "output_type": "stream",
          "name": "stdout",
          "text": [
            "time: 4.17 ms (started: 2022-02-23 22:20:55 +00:00)\n"
          ]
        }
      ]
    },
    {
      "cell_type": "code",
      "metadata": {
        "colab": {
          "base_uri": "https://localhost:8080/"
        },
        "id": "Pb0HNWAXlw-O",
        "outputId": "1f03d7cd-fc77-4861-a5d2-740d68a00317"
      },
      "source": [
        "#Se generan las características preliminares y sus clases\n",
        "Cjto_Autos = np.zeros((len(Autos),3780))\n",
        "Clases_Autos = np.zeros((len(Autos),1))\n",
        "for i in range(len(Autos)):\n",
        "  Cjto_Autos[i,:] = Calculador_CaractHoG(cv2.imread('car_side/' + Autos[i]))\n",
        "\n",
        "Cjto_Sillas = np.zeros((len(Sillas),3780))\n",
        "Clases_Sillas = np.zeros((len(Sillas),1))\n",
        "for i in range(len(Sillas)):\n",
        "  Cjto_Sillas[i,:] = Calculador_CaractHoG(cv2.imread('chair/' + Sillas[i]))\n",
        "\n",
        "Cjto_Transeuntes = np.zeros((len(Transeuntes),3780))\n",
        "Clases_Transeuntes = np.ones((len(Transeuntes),1))\n",
        "for i in range(len(Transeuntes)):\n",
        "  Cjto_Transeuntes[i,:] = Calculador_CaractHoG(cv2.imread('pedestrian/' + Transeuntes[i]))"
      ],
      "execution_count": 19,
      "outputs": [
        {
          "output_type": "stream",
          "name": "stdout",
          "text": [
            "time: 16.4 s (started: 2022-02-23 22:20:55 +00:00)\n"
          ]
        }
      ]
    },
    {
      "cell_type": "code",
      "metadata": {
        "colab": {
          "base_uri": "https://localhost:8080/"
        },
        "id": "qbBtqfbdpiy0",
        "outputId": "7289e1b7-7fac-45e4-a7c7-892e91c1a4e6"
      },
      "source": [
        "# Se procede a dividir en conjuntos de entrenamiento y validación.\n",
        "X_Autos_train, X_Autos_Val, y_Autos_train, y_Autos_Val = train_test_split(Cjto_Autos, Clases_Autos, train_size=0.7, stratify=Clases_Autos)\n",
        "X_Sillas_train, X_Sillas_Val, y_Sillas_train, y_Sillas_Val = train_test_split(Cjto_Sillas, Clases_Sillas, train_size=0.7, stratify=Clases_Sillas)\n",
        "X_Transe_train, X_Transe_Val, y_Transe_train, y_Transe_Val = train_test_split(Cjto_Transeuntes, Clases_Transeuntes, train_size=0.7, stratify=Clases_Transeuntes)"
      ],
      "execution_count": 20,
      "outputs": [
        {
          "output_type": "stream",
          "name": "stdout",
          "text": [
            "time: 19.9 ms (started: 2022-02-23 22:21:11 +00:00)\n"
          ]
        }
      ]
    },
    {
      "cell_type": "code",
      "metadata": {
        "colab": {
          "base_uri": "https://localhost:8080/"
        },
        "id": "vUFPi2-XrqBH",
        "outputId": "1b4e3521-f6b3-4ba5-bcc8-cec4e6e2d688"
      },
      "source": [
        "# Se crean los conjuntos de entrenamiento y validación finales\n",
        "X_Train_Final = np.concatenate((X_Autos_train,X_Sillas_train,X_Transe_train))\n",
        "X_Val_Final = np.concatenate((X_Autos_Val,X_Sillas_Val,X_Transe_Val))\n",
        "Y_Train_Final = np.concatenate((y_Autos_train,y_Sillas_train,y_Transe_train))\n",
        "Y_Val_Final = np.concatenate((y_Autos_Val,y_Sillas_Val,y_Transe_Val))\n",
        "\n",
        "# Se aplica un estandarizador: StandardScaler()\n",
        "Estandarizador = StandardScaler().fit(X_Train_Final)\n",
        "X_Train_Final = Estandarizador.transform(X_Train_Final)\n",
        "X_Val_Final = Estandarizador.transform(X_Val_Final)"
      ],
      "execution_count": 21,
      "outputs": [
        {
          "output_type": "stream",
          "name": "stdout",
          "text": [
            "time: 30.7 ms (started: 2022-02-23 22:21:11 +00:00)\n"
          ]
        }
      ]
    },
    {
      "cell_type": "markdown",
      "metadata": {
        "id": "DjUux_qd_LXk"
      },
      "source": [
        "## Clasificador SVM"
      ]
    },
    {
      "cell_type": "code",
      "metadata": {
        "colab": {
          "base_uri": "https://localhost:8080/",
          "height": 368
        },
        "id": "9FFmuRq-uNHG",
        "outputId": "901342f9-4b9e-4a0e-e2bb-7dbf9364b1e9"
      },
      "source": [
        "Valores_C = [0.01,0.1,1,10,100]\n",
        "Sigmas = [0.0001, 0.001, 0.01, 0.1, 1]\n",
        "Parametros = {'C': Valores_C, 'gamma' : Sigmas}  \n",
        "Clasificador_RBF = Constructor_Clasificador('rbf', False, 5, Parametros)\n",
        "Clasificador_RBF.fit(X_Train_Final,Y_Train_Final.ravel()) # Entrenamiento del clasificador\n",
        "Clases_Prediccion_RBF = Clasificador_RBF.predict(X_Val_Final) # Pruebo el clasificador con conjunto Validación\n",
        "# Metricas:\n",
        "print(\"Accuracy del conjunto de Validación:\",metrics.accuracy_score(Y_Val_Final.ravel(), Clases_Prediccion_RBF)) # Mido la exactitud\n",
        "plot_confusion_matrix(Clasificador_RBF, X_Val_Final, Y_Val_Final.ravel())\n",
        "plt.show()"
      ],
      "execution_count": 22,
      "outputs": [
        {
          "output_type": "stream",
          "name": "stdout",
          "text": [
            "Accuracy del conjunto de Validación: 0.9910714285714286\n"
          ]
        },
        {
          "output_type": "stream",
          "name": "stderr",
          "text": [
            "/usr/local/lib/python3.7/dist-packages/sklearn/utils/deprecation.py:87: FutureWarning: Function plot_confusion_matrix is deprecated; Function `plot_confusion_matrix` is deprecated in 1.0 and will be removed in 1.2. Use one of the class methods: ConfusionMatrixDisplay.from_predictions or ConfusionMatrixDisplay.from_estimator.\n",
            "  warnings.warn(msg, category=FutureWarning)\n"
          ]
        },
        {
          "output_type": "display_data",
          "data": {
            "image/png": "[encoded data removed]",
            "text/plain": [
              "<Figure size 432x288 with 2 Axes>"
            ]
          },
          "metadata": {
            "needs_background": "light"
          }
        },
        {
          "output_type": "stream",
          "name": "stdout",
          "text": [
            "time: 12.9 s (started: 2022-02-23 22:21:11 +00:00)\n"
          ]
        }
      ]
    },
    {
      "cell_type": "markdown",
      "metadata": {
        "id": "KkgtoMtR_Nkx"
      },
      "source": [
        "## Clasificador RandomForest"
      ]
    },
    {
      "cell_type": "code",
      "metadata": {
        "colab": {
          "base_uri": "https://localhost:8080/",
          "height": 368
        },
        "id": "O-L4k2Qj7BAt",
        "outputId": "4a2d99af-54f0-45ab-b3e2-670c97357d42"
      },
      "source": [
        "Clasificador_RandomForest = RandomForestClassifier()\n",
        "Clasificador_RandomForest.fit(X_Train_Final,Y_Train_Final.ravel()) # Entrenamiento del clasificador\n",
        "Clases_Prediccion_RandomF = Clasificador_RandomForest.predict(X_Val_Final) # Pruebo el clasificador con conjunto Validación\n",
        "# Metricas:\n",
        "print(\"Accuracy del conjunto de Validación:\",metrics.accuracy_score(Y_Val_Final.ravel(), Clases_Prediccion_RandomF)) # Mido la exactitud\n",
        "plot_confusion_matrix(Clasificador_RandomForest, X_Val_Final, Y_Val_Final.ravel())\n",
        "plt.show()"
      ],
      "execution_count": 23,
      "outputs": [
        {
          "output_type": "stream",
          "name": "stdout",
          "text": [
            "Accuracy del conjunto de Validación: 0.9821428571428571\n"
          ]
        },
        {
          "output_type": "stream",
          "name": "stderr",
          "text": [
            "/usr/local/lib/python3.7/dist-packages/sklearn/utils/deprecation.py:87: FutureWarning: Function plot_confusion_matrix is deprecated; Function `plot_confusion_matrix` is deprecated in 1.0 and will be removed in 1.2. Use one of the class methods: ConfusionMatrixDisplay.from_predictions or ConfusionMatrixDisplay.from_estimator.\n",
            "  warnings.warn(msg, category=FutureWarning)\n"
          ]
        },
        {
          "output_type": "display_data",
          "data": {
            "image/png": "[encoded data removed]",
            "text/plain": [
              "<Figure size 432x288 with 2 Axes>"
            ]
          },
          "metadata": {
            "needs_background": "light"
          }
        },
        {
          "output_type": "stream",
          "name": "stdout",
          "text": [
            "time: 793 ms (started: 2022-02-23 22:21:24 +00:00)\n"
          ]
        }
      ]
    }
  ]
}